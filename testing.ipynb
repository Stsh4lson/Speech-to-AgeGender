{
 "metadata": {
  "language_info": {
   "codemirror_mode": {
    "name": "ipython",
    "version": 3
   },
   "file_extension": ".py",
   "mimetype": "text/x-python",
   "name": "python",
   "nbconvert_exporter": "python",
   "pygments_lexer": "ipython3",
   "version": "3.8.3-final"
  },
  "orig_nbformat": 2,
  "kernelspec": {
   "name": "python_defaultSpec_1600515919960",
   "display_name": "Python 3.8.3 64-bit ('base': conda)"
  }
 },
 "nbformat": 4,
 "nbformat_minor": 2,
 "cells": [
  {
   "cell_type": "code",
   "execution_count": 1,
   "metadata": {
    "tags": []
   },
   "outputs": [
    {
     "output_type": "stream",
     "name": "stdout",
     "text": "TRAIN_DATA_LEN: 3720334\nVAL_DATA_LEN: 1593071\n"
    }
   ],
   "source": [
    "import path_configs # noqa\n",
    "import numpy as np\n",
    "import tensorflow as tf\n",
    "import matplotlib.pyplot as plt\n",
    "import settings\n",
    "settings.init()\n",
    "from modules.EncoderGenerators import * # noqa\n",
    "\n",
    "physical_devices = tf.config.experimental.list_physical_devices('GPU')\n",
    "tf.config.experimental.set_memory_growth(physical_devices[0], True)\n",
    "\n",
    "# assumes that array is not zero\n",
    "def scaled(tensor):\n",
    "    return (tensor-tf.math.reduce_min(tensor))/(tf.math.reduce_max(tensor)-tf.\n",
    "                                                math.reduce_min(tensor))"
   ]
  },
  {
   "cell_type": "code",
   "execution_count": 5,
   "metadata": {},
   "outputs": [],
   "source": [
    "from DataPreprocessor import DataLoader\n",
    "dl = DataLoader()\n",
    "X_array = dl.make_spectrogram(1241)"
   ]
  },
  {
   "cell_type": "code",
   "execution_count": 6,
   "metadata": {},
   "outputs": [
    {
     "output_type": "execute_result",
     "data": {
      "text/plain": "TensorShape([1025, 2975])"
     },
     "metadata": {},
     "execution_count": 6
    }
   ],
   "source": [
    "X_array.shape"
   ]
  },
  {
   "cell_type": "code",
   "execution_count": null,
   "metadata": {},
   "outputs": [],
   "source": [
    "class TrainClassifierGenerator(tf.data.Dataset):\n",
    "    def _generator(case_nums, TIMESTEPS, WINDOWS_STEP, BATCH_SIZE):\n",
    "        encoder = tf.keras.models.load_model('saved_models\\encoder_model_1_1600375052_1600376295.1361377.h5')\n",
    "        from DataPreprocessor import DataLoader\n",
    "        dl = DataLoader()\n",
    "        spectral_frames = []\n",
    "        for case_num in case_nums:\n",
    "            X_array = dl.make_spectrogram(case_num)  # to map\n",
    "            frame_step = 64\n",
    "            max_len = max(settings.LENGTHS)//frame_step - (frame_step//2) + 1\n",
    "            padding = (max_len - X_array.shape[1])//2\n",
    "            X_array = tf.pad(X_array, ([0,0], [padding,padding]))\n",
    "            silence = np.argwhere(np.all(X_array[..., :] == -80, axis=0))            \n",
    "            X_array = tf.cast(np.swapaxes(np.delete(X_array, silence, axis=1),\n",
    "                                          0, 1), tf.float32)\n",
    "            L = X_array.shape[0]\n",
    "            batch_start = 0\n",
    "            batch_end = TIMESTEPS\n",
    "            while batch_start < L-TIMESTEPS:\n",
    "                limit = min(batch_end, L)\n",
    "                spectral_frame = X_array[batch_start:limit, :]\n",
    "                spectral_frames.append(spectral_frame)\n",
    "                if len(spectral_frames) >= BATCH_SIZE:\n",
    "                    spectral_frames = tf.stack(spectral_frames)\n",
    "                    yield(spectral_frames)\n",
    "                    spectral_frames = []\n",
    "                batch_start += WINDOWS_STEP\n",
    "                # window sliding by half of a window size\n",
    "                batch_end += WINDOWS_STEP\n",
    "\n",
    "    def __new__(cls,\n",
    "                case_nums=settings.AE_TRAIN_IDX,\n",
    "                TIMESTEPS=settings.AE_TIMESTEPS,\n",
    "                WINDOWS_STEP=settings.AE_WINDOWS_STEP,\n",
    "                N_FEATURES=settings.AE_N_FEATURES,\n",
    "                BATCH_SIZE=settings.AE_BATCH_SIZE):\n",
    "        return tf.data.Dataset.from_generator(\n",
    "            cls._generator,\n",
    "            output_types=tf.dtypes.float32,\n",
    "            output_shapes=(BATCH_SIZE, TIMESTEPS, N_FEATURES),\n",
    "            args=(case_nums, TIMESTEPS, WINDOWS_STEP, BATCH_SIZE)\n",
    "        )"
   ]
  }
 ]
}