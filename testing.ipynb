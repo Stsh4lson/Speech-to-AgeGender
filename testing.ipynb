{
 "metadata": {
  "language_info": {
   "codemirror_mode": {
    "name": "ipython",
    "version": 3
   },
   "file_extension": ".py",
   "mimetype": "text/x-python",
   "name": "python",
   "nbconvert_exporter": "python",
   "pygments_lexer": "ipython3",
   "version": "3.8.3-final"
  },
  "orig_nbformat": 2,
  "kernelspec": {
   "name": "python_defaultSpec_1600531225617",
   "display_name": "Python 3.8.3 64-bit ('base': conda)"
  }
 },
 "nbformat": 4,
 "nbformat_minor": 2,
 "cells": [
  {
   "cell_type": "code",
   "execution_count": 1,
   "metadata": {
    "tags": []
   },
   "outputs": [
    {
     "output_type": "stream",
     "name": "stdout",
     "text": "TRAIN_DATA_LEN: 3720334\nVAL_DATA_LEN: 1593071\n"
    }
   ],
   "source": [
    "import path_configs # noqa\n",
    "import numpy as np\n",
    "import tensorflow as tf\n",
    "import matplotlib.pyplot as plt\n",
    "import settings\n",
    "settings.init()\n",
    "from modules.EncoderGenerators import * # noqa\n",
    "\n",
    "physical_devices = tf.config.experimental.list_physical_devices('GPU')\n",
    "tf.config.experimental.set_memory_growth(physical_devices[0], True)\n",
    "\n",
    "# assumes that array is not zero\n",
    "def scaled(tensor):\n",
    "    return (tensor-tf.math.reduce_min(tensor))/(tf.math.reduce_max(tensor)-tf.\n",
    "                                                math.reduce_min(tensor))"
   ]
  },
  {
   "cell_type": "code",
   "execution_count": 7,
   "metadata": {},
   "outputs": [],
   "source": [
    "from DataPreprocessor import DataLoader\n",
    "dl = DataLoader()\n",
    "X_array = dl.make_spectrogram(1241)"
   ]
  },
  {
   "cell_type": "code",
   "execution_count": 8,
   "metadata": {},
   "outputs": [
    {
     "output_type": "execute_result",
     "data": {
      "text/plain": "TensorShape([1025, 5261])"
     },
     "metadata": {},
     "execution_count": 8
    }
   ],
   "source": [
    "X_array.shape"
   ]
  },
  {
   "cell_type": "code",
   "execution_count": 14,
   "metadata": {},
   "outputs": [
    {
     "output_type": "execute_result",
     "data": {
      "text/plain": "8192.0"
     },
     "metadata": {},
     "execution_count": 14
    }
   ],
   "source": [
    "frame_step = 64\n",
    "np.ceil( (max(settings.LENGTHS)//frame_step - (frame_step//2) + 1)/1024)*1024"
   ]
  },
  {
   "cell_type": "code",
   "execution_count": 130,
   "metadata": {},
   "outputs": [],
   "source": [
    "class TrainClassifierGenerator(tf.data.Dataset):\n",
    "    def _generator(case_nums, TIMESTEPS, WINDOWS_STEP, BATCH_SIZE):\n",
    "        autoencoder = tf.keras.models.load_model('model_autoencoder_final.h5')\n",
    "        encoder = autoencoder.layers[1]\n",
    "        encoder = tf.keras.models.Model(encoder.layers[0].input, encoder.layers[2]\n",
    "                                        .output)\n",
    "\n",
    "        from DataPreprocessor import DataLoader\n",
    "        dl = DataLoader()\n",
    "        data_len = 0\n",
    "        max_batch_len = BATCH_SIZE*TIMESTEPS\n",
    "        audio_batch = []\n",
    "        while True:\n",
    "            for case_num in case_nums:\n",
    "                X_sample = dl.make_spectrogram(case_num)\n",
    "                data_len += X_sample.shape[1]\n",
    "                if data_len > max_batch_len:\n",
    "                    # deleting silence\n",
    "                    X_array = np.array(np.column_stack(audio_batch))\n",
    "                    silence = np.argwhere(np.all(X_array[..., :] == -80, axis=0))            \n",
    "                    X_array = tf.cast(np.swapaxes(np.delete(X_array, silence, axis=1),\n",
    "                                                0, 1), tf.float32)\n",
    "                    # padding to smallest n*timestep above max length\n",
    "                    frame_step = 64\n",
    "                    padding = int(max_batch_len - X_array.shape[0])\n",
    "                    X_array = tf.pad(X_array, ([0,padding], [0, 0]))\n",
    "                    X_array = tf.cast(X_array, tf.float32)\n",
    "                    X_array = tf.reshape(X_array, [1024, 64, 1025])\n",
    "                    latent_spectral_frames = encoder.predict(X_array)\n",
    "                    yield(latent_spectral_frames)\n",
    "                    audio_batch = []\n",
    "\n",
    "                audio_batch.append(X_sample)\n",
    "\n",
    "\n",
    "    def __new__(cls,\n",
    "                case_nums=settings.AE_TRAIN_IDX,\n",
    "                TIMESTEPS=settings.AE_TIMESTEPS,\n",
    "                WINDOWS_STEP=settings.AE_WINDOWS_STEP,\n",
    "                N_FEATURES=settings.AE_N_FEATURES,\n",
    "                BATCH_SIZE=settings.MODEL_BATCH_SIZE):\n",
    "        return tf.data.Dataset.from_generator(\n",
    "            cls._generator,\n",
    "            output_types=tf.dtypes.float32,\n",
    "            output_shapes=((BATCH_SIZE, 128)),\n",
    "            args=(case_nums, TIMESTEPS, WINDOWS_STEP, BATCH_SIZE)\n",
    "        )"
   ]
  },
  {
   "cell_type": "code",
   "execution_count": 131,
   "metadata": {
    "tags": []
   },
   "outputs": [
    {
     "output_type": "stream",
     "name": "stdout",
     "text": "(1024, 128)\n(1024, 128)\n(1024, 128)\n(1024, 128)\n(1024, 128)\n"
    }
   ],
   "source": [
    "counter = 0\n",
    "for x in TrainClassifierGenerator():\n",
    "    print(x.shape)\n",
    "    counter+=1\n",
    "    if counter>4:\n",
    "        break"
   ]
  },
  {
   "cell_type": "code",
   "execution_count": 16,
   "metadata": {},
   "outputs": [
    {
     "output_type": "execute_result",
     "data": {
      "text/plain": "33.484375"
     },
     "metadata": {},
     "execution_count": 16
    }
   ],
   "source": [
    "(4127/64 - (64/2) + 1)"
   ]
  },
  {
   "cell_type": "code",
   "execution_count": 29,
   "metadata": {},
   "outputs": [],
   "source": [
    "import pandas as pd\n",
    "df = pd.read_excel('do_import_magazyn_19_09_2020.xlsx')"
   ]
  },
  {
   "cell_type": "code",
   "execution_count": 53,
   "metadata": {},
   "outputs": [
    {
     "output_type": "execute_result",
     "data": {
      "text/plain": "array([1353., 1354.,   22.,  943.])"
     },
     "metadata": {},
     "execution_count": 53
    }
   ],
   "source": [
    "df['Destination Location Zone / ID bazy danych'].unique()"
   ]
  },
  {
   "cell_type": "code",
   "execution_count": 74,
   "metadata": {},
   "outputs": [
    {
     "output_type": "execute_result",
     "data": {
      "text/plain": "      ob_TowId                              Stock Moves / Product  \\\n3560        39                                        Singles GRA   \n3561       108                                    FireWire na PCI   \n3562       112                       Kieszeń USB SATA 3,5 Gembird   \n3563       136                   Intel Celeron 420 1,6 GHz LGA775   \n3564       156                                 mysz A4-Tech BW-26   \n...        ...                                                ...   \n5339     14908   APACER Pamięć DDR4 8GB 2400MHz CL17 SODIMM 1.2V    \n5340     14928  SWITCH LiteWave LS105G, 5 portów RJ45 10/100/1...   \n5341     14962             APACER AP240GAS340G-1 Apacer SSD 240GB   \n5342     15088      ADAPTER VGA(M)->DVI-I(F)(24+5) CZARNY GEMBIRD   \n5343     15219  Microsoft 365 Personal PL P6 1Y 1U Win/Mac QQ2...   \n\n      Stock Moves / Quantity Stock Moves / Unit of Measure  \\\n3560                     1.0                        Sztuki   \n3561                     1.0                        Sztuki   \n3562                     1.0                        Sztuki   \n3563                     1.0                        Sztuki   \n3564                     1.0                        Sztuki   \n...                      ...                           ...   \n5339                     1.0                        Sztuki   \n5340                     1.0                        Sztuki   \n5341                     3.0                        Sztuki   \n5342                     9.0                        Sztuki   \n5343                     1.0                        Sztuki   \n\n                              Stock Moves / Description  \\\n3560                                        Singles GRA   \n3561                                    FireWire na PCI   \n3562                       Kieszeń USB SATA 3,5 Gembird   \n3563                   Intel Celeron 420 1,6 GHz LGA775   \n3564                                 mysz A4-Tech BW-26   \n...                                                 ...   \n5339   APACER Pamięć DDR4 8GB 2400MHz CL17 SODIMM 1.2V    \n5340  SWITCH LiteWave LS105G, 5 portów RJ45 10/100/1...   \n5341             APACER AP240GAS340G-1 Apacer SSD 240GB   \n5342      ADAPTER VGA(M)->DVI-I(F)(24+5) CZARNY GEMBIRD   \n5343  Microsoft 365 Personal PL P6 1Y 1U Win/Mac QQ2...   \n\n      Source Location Zone / ID bazy danych  \\\n3560                                    8.0   \n3561                                    NaN   \n3562                                    NaN   \n3563                                    NaN   \n3564                                    NaN   \n...                                     ...   \n5339                                    NaN   \n5340                                    NaN   \n5341                                    NaN   \n5342                                    NaN   \n5343                                    NaN   \n\n      Destination Location Zone / ID bazy danych  \\\n3560                                      1354.0   \n3561                                      1354.0   \n3562                                      1354.0   \n3563                                      1354.0   \n3564                                      1354.0   \n...                                          ...   \n5339                                      1354.0   \n5340                                      1354.0   \n5341                                      1354.0   \n5342                                      1354.0   \n5343                                      1354.0   \n\n      Picking Type / ID bazy danych                Symbol  \\\n3560                            1.0                000051   \n3561                            NaN                000126   \n3562                            NaN                000130   \n3563                            NaN                000155   \n3564                            NaN  000161(1)(4)(1)(1(3)   \n...                             ...                   ...   \n5339                            NaN                019209   \n5340                            NaN                019235   \n5341                            NaN                019290   \n5342                            NaN                019438   \n5343                            NaN                019624   \n\n      Stock Moves / Unit price  \n3560                      1.00  \n3561                     12.31  \n3562                     34.00  \n3563                      0.00  \n3564                     19.00  \n...                        ...  \n5339                     97.51  \n5340                     46.94  \n5341                     84.62  \n5342                      2.17  \n5343                    149.00  \n\n[1778 rows x 10 columns]",
      "text/html": "<div>\n<style scoped>\n    .dataframe tbody tr th:only-of-type {\n        vertical-align: middle;\n    }\n\n    .dataframe tbody tr th {\n        vertical-align: top;\n    }\n\n    .dataframe thead th {\n        text-align: right;\n    }\n</style>\n<table border=\"1\" class=\"dataframe\">\n  <thead>\n    <tr style=\"text-align: right;\">\n      <th></th>\n      <th>ob_TowId</th>\n      <th>Stock Moves / Product</th>\n      <th>Stock Moves / Quantity</th>\n      <th>Stock Moves / Unit of Measure</th>\n      <th>Stock Moves / Description</th>\n      <th>Source Location Zone / ID bazy danych</th>\n      <th>Destination Location Zone / ID bazy danych</th>\n      <th>Picking Type / ID bazy danych</th>\n      <th>Symbol</th>\n      <th>Stock Moves / Unit price</th>\n    </tr>\n  </thead>\n  <tbody>\n    <tr>\n      <th>3560</th>\n      <td>39</td>\n      <td>Singles GRA</td>\n      <td>1.0</td>\n      <td>Sztuki</td>\n      <td>Singles GRA</td>\n      <td>8.0</td>\n      <td>1354.0</td>\n      <td>1.0</td>\n      <td>000051</td>\n      <td>1.00</td>\n    </tr>\n    <tr>\n      <th>3561</th>\n      <td>108</td>\n      <td>FireWire na PCI</td>\n      <td>1.0</td>\n      <td>Sztuki</td>\n      <td>FireWire na PCI</td>\n      <td>NaN</td>\n      <td>1354.0</td>\n      <td>NaN</td>\n      <td>000126</td>\n      <td>12.31</td>\n    </tr>\n    <tr>\n      <th>3562</th>\n      <td>112</td>\n      <td>Kieszeń USB SATA 3,5 Gembird</td>\n      <td>1.0</td>\n      <td>Sztuki</td>\n      <td>Kieszeń USB SATA 3,5 Gembird</td>\n      <td>NaN</td>\n      <td>1354.0</td>\n      <td>NaN</td>\n      <td>000130</td>\n      <td>34.00</td>\n    </tr>\n    <tr>\n      <th>3563</th>\n      <td>136</td>\n      <td>Intel Celeron 420 1,6 GHz LGA775</td>\n      <td>1.0</td>\n      <td>Sztuki</td>\n      <td>Intel Celeron 420 1,6 GHz LGA775</td>\n      <td>NaN</td>\n      <td>1354.0</td>\n      <td>NaN</td>\n      <td>000155</td>\n      <td>0.00</td>\n    </tr>\n    <tr>\n      <th>3564</th>\n      <td>156</td>\n      <td>mysz A4-Tech BW-26</td>\n      <td>1.0</td>\n      <td>Sztuki</td>\n      <td>mysz A4-Tech BW-26</td>\n      <td>NaN</td>\n      <td>1354.0</td>\n      <td>NaN</td>\n      <td>000161(1)(4)(1)(1(3)</td>\n      <td>19.00</td>\n    </tr>\n    <tr>\n      <th>...</th>\n      <td>...</td>\n      <td>...</td>\n      <td>...</td>\n      <td>...</td>\n      <td>...</td>\n      <td>...</td>\n      <td>...</td>\n      <td>...</td>\n      <td>...</td>\n      <td>...</td>\n    </tr>\n    <tr>\n      <th>5339</th>\n      <td>14908</td>\n      <td>APACER Pamięć DDR4 8GB 2400MHz CL17 SODIMM 1.2V</td>\n      <td>1.0</td>\n      <td>Sztuki</td>\n      <td>APACER Pamięć DDR4 8GB 2400MHz CL17 SODIMM 1.2V</td>\n      <td>NaN</td>\n      <td>1354.0</td>\n      <td>NaN</td>\n      <td>019209</td>\n      <td>97.51</td>\n    </tr>\n    <tr>\n      <th>5340</th>\n      <td>14928</td>\n      <td>SWITCH LiteWave LS105G, 5 portów RJ45 10/100/1...</td>\n      <td>1.0</td>\n      <td>Sztuki</td>\n      <td>SWITCH LiteWave LS105G, 5 portów RJ45 10/100/1...</td>\n      <td>NaN</td>\n      <td>1354.0</td>\n      <td>NaN</td>\n      <td>019235</td>\n      <td>46.94</td>\n    </tr>\n    <tr>\n      <th>5341</th>\n      <td>14962</td>\n      <td>APACER AP240GAS340G-1 Apacer SSD 240GB</td>\n      <td>3.0</td>\n      <td>Sztuki</td>\n      <td>APACER AP240GAS340G-1 Apacer SSD 240GB</td>\n      <td>NaN</td>\n      <td>1354.0</td>\n      <td>NaN</td>\n      <td>019290</td>\n      <td>84.62</td>\n    </tr>\n    <tr>\n      <th>5342</th>\n      <td>15088</td>\n      <td>ADAPTER VGA(M)-&gt;DVI-I(F)(24+5) CZARNY GEMBIRD</td>\n      <td>9.0</td>\n      <td>Sztuki</td>\n      <td>ADAPTER VGA(M)-&gt;DVI-I(F)(24+5) CZARNY GEMBIRD</td>\n      <td>NaN</td>\n      <td>1354.0</td>\n      <td>NaN</td>\n      <td>019438</td>\n      <td>2.17</td>\n    </tr>\n    <tr>\n      <th>5343</th>\n      <td>15219</td>\n      <td>Microsoft 365 Personal PL P6 1Y 1U Win/Mac QQ2...</td>\n      <td>1.0</td>\n      <td>Sztuki</td>\n      <td>Microsoft 365 Personal PL P6 1Y 1U Win/Mac QQ2...</td>\n      <td>NaN</td>\n      <td>1354.0</td>\n      <td>NaN</td>\n      <td>019624</td>\n      <td>149.00</td>\n    </tr>\n  </tbody>\n</table>\n<p>1778 rows × 10 columns</p>\n</div>"
     },
     "metadata": {},
     "execution_count": 74
    }
   ],
   "source": [
    "df[df['Destination Location Zone / ID bazy danych']==1354].drop_duplicates(subset=['Stock Moves / Product'])"
   ]
  }
 ]
}